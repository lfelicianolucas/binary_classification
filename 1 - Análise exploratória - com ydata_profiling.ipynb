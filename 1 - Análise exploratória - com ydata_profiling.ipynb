{
 "cells": [
  {
   "cell_type": "code",
   "execution_count": 7,
   "metadata": {},
   "outputs": [],
   "source": [
    "import numpy as np\n",
    "import pandas as pd\n",
    "from ydata_profiling import ProfileReport\n",
    "\n",
    "train_set = pd.read_csv(\"input/train.csv\")\n",
    "\n",
    "target = \"Attrition_Flag\"\n",
    "numeric_features = [\n",
    "    col\n",
    "    for col in train_set.columns\n",
    "    if pd.api.types.is_numeric_dtype(train_set[col]) and col != target\n",
    "]\n",
    "categoric_features = [\n",
    "    col\n",
    "    for col in train_set.columns\n",
    "    if (not pd.api.types.is_numeric_dtype(train_set[col])) and col != target\n",
    "]"
   ]
  },
  {
   "cell_type": "code",
   "execution_count": 13,
   "metadata": {},
   "outputs": [
    {
     "name": "stderr",
     "output_type": "stream",
     "text": [
      "Summarize dataset: 100%|██████████| 248/248 [00:28<00:00,  8.58it/s, Completed]                                                \n",
      "Generate report structure: 100%|██████████| 1/1 [00:05<00:00,  5.30s/it]\n",
      "Render HTML: 100%|██████████| 1/1 [00:04<00:00,  4.91s/it]\n",
      "Export report to file: 100%|██████████| 1/1 [00:00<00:00, 21.37it/s]\n"
     ]
    }
   ],
   "source": [
    "train_profile = ProfileReport(\n",
    "    train_set[numeric_features].assign(\n",
    "        **{\n",
    "            \"Attrition_Flag\": np.where(\n",
    "                train_set[\"Attrition_Flag\"] == \"Attrited Customer\", 0, 1\n",
    "            )\n",
    "        }\n",
    "    ),\n",
    "    title=\"Análise Exploratória - Features Numéricas\",\n",
    "    missing_diagrams=None,\n",
    "    samples=None,\n",
    "    duplicates=None,\n",
    "    variables={\n",
    "        \"descriptions\": {\n",
    "            \"Attrition_Flag\": '0 = \"Attrited Customer\"; 1 = \"Existing Customer\"'\n",
    "        }\n",
    "    },\n",
    "    correlations={\n",
    "        \"auto\": {\"calculate\": False},\n",
    "        \"pearson\": {\"calculate\": False},\n",
    "        \"spearman\": {\"calculate\": False},\n",
    "        \"kendall\": {\"calculate\": True},\n",
    "        \"phi_k\": {\"calculate\": False},\n",
    "        \"cramers\": {\"calculate\": False},\n",
    "    },\n",
    ")\n",
    "train_profile.to_file(\"output/Análise Exploratória - Features Numéricas.html\")"
   ]
  },
  {
   "cell_type": "code",
   "execution_count": 9,
   "metadata": {},
   "outputs": [
    {
     "name": "stderr",
     "output_type": "stream",
     "text": [
      "a:\\Desktop\\Mineração Dados Complexos\\INF-0619-016 - Projeto Final\\Resolução\\.venv\\lib\\site-packages\\ydata_profiling\\utils\\dataframe.py:137: SettingWithCopyWarning: \n",
      "A value is trying to be set on a copy of a slice from a DataFrame\n",
      "\n",
      "See the caveats in the documentation: https://pandas.pydata.org/pandas-docs/stable/user_guide/indexing.html#returning-a-view-versus-a-copy\n",
      "  df.rename(columns={\"index\": \"df_index\"}, inplace=True)\n",
      "Summarize dataset:   0%|          | 0/5 [00:00<?, ?it/s]"
     ]
    },
    {
     "name": "stderr",
     "output_type": "stream",
     "text": [
      "Summarize dataset: 100%|██████████| 12/12 [00:00<00:00, 37.20it/s, Completed]                       \n",
      "Generate report structure: 100%|██████████| 1/1 [00:01<00:00,  1.90s/it]\n",
      "Render HTML: 100%|██████████| 1/1 [00:00<00:00,  4.19it/s]\n",
      "Export report to file: 100%|██████████| 1/1 [00:00<00:00, 79.95it/s]\n"
     ]
    }
   ],
   "source": [
    "train_profile = ProfileReport(\n",
    "    train_set[categoric_features + [target]],\n",
    "    title=\"Análise Exploratória - Features Categóricas\",\n",
    "    missing_diagrams=None,\n",
    "    samples=None,\n",
    "    duplicates=None,\n",
    "    correlations=None,\n",
    ")\n",
    "train_profile.to_file(\"output/Análise Exploratória - Features Categóricas.html\")"
   ]
  },
  {
   "cell_type": "code",
   "execution_count": 10,
   "metadata": {},
   "outputs": [
    {
     "name": "stderr",
     "output_type": "stream",
     "text": [
      "Summarize dataset: 100%|██████████| 252/252 [00:27<00:00,  9.16it/s, Completed]                                                \n",
      "Summarize dataset: 100%|██████████| 252/252 [00:28<00:00,  8.88it/s, Completed]                                                \n",
      "Generate report structure: 100%|██████████| 1/1 [00:08<00:00,  8.95s/it]\n",
      "Render HTML: 100%|██████████| 1/1 [00:11<00:00, 11.02s/it]\n",
      "Export report to file: 100%|██████████| 1/1 [00:01<00:00,  1.90s/it]\n"
     ]
    }
   ],
   "source": [
    "train_profile_existing = ProfileReport(\n",
    "    train_set.copy()[train_set[\"Attrition_Flag\"] == \"Existing Customer\"],\n",
    "    title=\"Análise Exploratória - Treino - Churn\",\n",
    "    missing_diagrams=None,\n",
    "    samples=None,\n",
    "    duplicates=None,\n",
    "    correlations=None,\n",
    ")\n",
    "train_profile_attrited = ProfileReport(\n",
    "    train_set.copy()[train_set[\"Attrition_Flag\"] == \"Attrited Customer\"],\n",
    "    title=\"Análise Exploratória - Treino - Não churn\",\n",
    "    missing_diagrams=None,\n",
    "    samples=None,\n",
    "    duplicates=None,\n",
    "    correlations=None,\n",
    ")\n",
    "comparison_report_train = train_profile_existing.compare(train_profile_attrited)\n",
    "comparison_report_train.to_file(\n",
    "    \"output/Análise Exploratória - Treino - Churn x Não Churn.html\"\n",
    ")"
   ]
  }
 ],
 "metadata": {
  "kernelspec": {
   "display_name": ".venv",
   "language": "python",
   "name": "python3"
  },
  "language_info": {
   "codemirror_mode": {
    "name": "ipython",
    "version": 3
   },
   "file_extension": ".py",
   "mimetype": "text/x-python",
   "name": "python",
   "nbconvert_exporter": "python",
   "pygments_lexer": "ipython3",
   "version": "3.10.2"
  }
 },
 "nbformat": 4,
 "nbformat_minor": 2
}
