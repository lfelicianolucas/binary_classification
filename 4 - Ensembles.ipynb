{
 "cells": [
  {
   "cell_type": "code",
   "execution_count": 10,
   "metadata": {},
   "outputs": [],
   "source": [
    "import numpy as np\n",
    "import pandas as pd\n",
    "from sklearn.ensemble import (\n",
    "    RandomForestClassifier,\n",
    "    StackingClassifier,\n",
    "    VotingClassifier,\n",
    ")\n",
    "from sklearn.linear_model import LogisticRegression\n",
    "from sklearn.metrics import (\n",
    "    accuracy_score,\n",
    "    balanced_accuracy_score,\n",
    "    f1_score,\n",
    "    roc_auc_score,\n",
    ")\n",
    "from sklearn.model_selection import StratifiedKFold\n",
    "from sklearn.svm import SVC\n",
    "\n",
    "from evaluation import get_cm_sklearn, print_metrics\n",
    "from preprocessing import TrainingPreProcessor\n",
    "\n",
    "RANDOM_STATE = 0\n",
    "\n",
    "train_set = pd.read_csv(\"input/train.csv\")\n",
    "\n",
    "training_preprocessor = TrainingPreProcessor()\n",
    "training_preprocessor.fit(train_set, ignore_columns=[\"CLIENTNUM\"])\n",
    "\n",
    "X, y = training_preprocessor.transform(train_set)\n",
    "class_weight = training_preprocessor.class_weight"
   ]
  },
  {
   "cell_type": "markdown",
   "metadata": {},
   "source": [
    "## Recuperação dos melhores modelos encontrados por gridsearch"
   ]
  },
  {
   "cell_type": "code",
   "execution_count": 12,
   "metadata": {},
   "outputs": [],
   "source": [
    "logistic_regression_model = LogisticRegression(\n",
    "    random_state=RANDOM_STATE,\n",
    "    class_weight=class_weight,\n",
    "    solver=\"saga\",\n",
    "    **{\"C\": 0.1, \"max_iter\": 1000, \"penalty\": \"l2\", \"tol\": 0.0001}\n",
    ")\n",
    "\n",
    "svc_model = SVC(\n",
    "    random_state=RANDOM_STATE,\n",
    "    class_weight=class_weight,\n",
    "    **{\"C\": 1.0, \"kernel\": \"rbf\", \"max_iter\": 10000, \"tol\": 0.001}\n",
    ")\n",
    "\n",
    "rf_model = RandomForestClassifier(\n",
    "    random_state=RANDOM_STATE,\n",
    "    class_weight=class_weight,\n",
    "    **{\n",
    "        \"criterion\": \"entropy\",\n",
    "        \"max_depth\": 7,\n",
    "        \"max_features\": \"sqrt\",\n",
    "        \"n_estimators\": 50,\n",
    "    }\n",
    ")\n",
    "\n",
    "kfold = StratifiedKFold(5, shuffle=True, random_state=RANDOM_STATE)"
   ]
  },
  {
   "cell_type": "markdown",
   "metadata": {},
   "source": [
    "## Treinando e avaliando um ensemble de votação"
   ]
  },
  {
   "cell_type": "code",
   "execution_count": 13,
   "metadata": {},
   "outputs": [],
   "source": [
    "voting_ensemble = VotingClassifier(\n",
    "    estimators=[\n",
    "        (\"logistic_regression\", logistic_regression_model),\n",
    "        (\"svc\", svc_model),\n",
    "        (\"random_forest\", rf_model),\n",
    "    ],\n",
    "    voting=\"hard\",\n",
    ")"
   ]
  },
  {
   "cell_type": "code",
   "execution_count": 15,
   "metadata": {},
   "outputs": [
    {
     "name": "stdout",
     "output_type": "stream",
     "text": [
      "balanced_accuracy: 0.9154 +- 0.0060\n",
      "accuracy: 0.9154 +- 0.0060\n",
      "f1: 0.9481 +- 0.0037\n",
      "roc_auc: 0.9052 +- 0.0136\n"
     ]
    }
   ],
   "source": [
    "metrics = {\n",
    "    'balanced_accuracy':[],\n",
    "    'accuracy':[],\n",
    "    'f1':[],\n",
    "    'roc_auc':[],\n",
    "}\n",
    "for train_index, val_index in kfold.split(X, y):\n",
    "    X_train, X_val = X[train_index], X[val_index]\n",
    "    y_train, y_val = y[train_index], y[val_index]\n",
    "    voting_ensemble.fit(X_train, y_train)\n",
    "    y_val_pred = voting_ensemble.predict(X_val)\n",
    "    metrics['balanced_accuracy'].append(balanced_accuracy_score(y_val, y_val_pred))\n",
    "    metrics['accuracy'].append(accuracy_score(y_val, y_val_pred))\n",
    "    metrics['f1'].append(f1_score(y_val, y_val_pred))\n",
    "    metrics['roc_auc'].append(roc_auc_score(y_val, y_val_pred))\n",
    "for metric, values in metrics.items():\n",
    "    print(f\"{metric}: {np.array(metrics[metric]).mean():.4f} +- {np.array(metrics[metric]).std():.4f}\")\n",
    "    "
   ]
  },
  {
   "cell_type": "markdown",
   "metadata": {},
   "source": [
    "## Treinando e avaliando (sobre validação) um ensemle de empilhamento"
   ]
  },
  {
   "cell_type": "code",
   "execution_count": 16,
   "metadata": {},
   "outputs": [],
   "source": [
    "stacking_ensemble = StackingClassifier(\n",
    "    estimators=[\n",
    "        (\"logistic_regression\", logistic_regression_model),\n",
    "        (\"svc\", svc_model),\n",
    "        (\"random_forest\", rf_model),\n",
    "    ],\n",
    "    final_estimator=LogisticRegression(random_state=RANDOM_STATE),\n",
    "    cv=StratifiedKFold(5, shuffle=True, random_state=RANDOM_STATE),\n",
    ")"
   ]
  },
  {
   "cell_type": "code",
   "execution_count": 17,
   "metadata": {},
   "outputs": [
    {
     "name": "stdout",
     "output_type": "stream",
     "text": [
      "balanced_accuracy: 0.9424 +- 0.0021\n",
      "accuracy: 0.9424 +- 0.0021\n",
      "f1: 0.9658 +- 0.0014\n",
      "roc_auc: 0.8851 +- 0.0057\n"
     ]
    }
   ],
   "source": [
    "metrics = {\n",
    "    'balanced_accuracy':[],\n",
    "    'accuracy':[],\n",
    "    'f1':[],\n",
    "    'roc_auc':[],\n",
    "}\n",
    "for train_index, val_index in kfold.split(X, y):\n",
    "    X_train, X_val = X[train_index], X[val_index]\n",
    "    y_train, y_val = y[train_index], y[val_index]\n",
    "    stacking_ensemble.fit(X_train, y_train)\n",
    "    y_val_pred = stacking_ensemble.predict(X_val)\n",
    "    metrics['balanced_accuracy'].append(balanced_accuracy_score(y_val, y_val_pred))\n",
    "    metrics['accuracy'].append(accuracy_score(y_val, y_val_pred))\n",
    "    metrics['f1'].append(f1_score(y_val, y_val_pred))\n",
    "    metrics['roc_auc'].append(roc_auc_score(y_val, y_val_pred))\n",
    "for metric, values in metrics.items():\n",
    "    print(f\"{metric}: {np.array(metrics[metric]).mean():.4f} +- {np.array(metrics[metric]).std():.4f}\")"
   ]
  }
 ],
 "metadata": {
  "kernelspec": {
   "display_name": ".venv",
   "language": "python",
   "name": "python3"
  },
  "language_info": {
   "codemirror_mode": {
    "name": "ipython",
    "version": 3
   },
   "file_extension": ".py",
   "mimetype": "text/x-python",
   "name": "python",
   "nbconvert_exporter": "python",
   "pygments_lexer": "ipython3",
   "version": "3.10.2"
  }
 },
 "nbformat": 4,
 "nbformat_minor": 4
}
